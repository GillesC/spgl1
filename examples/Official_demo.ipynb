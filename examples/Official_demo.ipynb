{
 "cells": [
  {
   "cell_type": "markdown",
   "metadata": {},
   "source": [
    "# SPGL1 demo"
   ]
  },
  {
   "cell_type": "markdown",
   "metadata": {},
   "source": [
    "This notebook contains a Python implementation of the original examples from SPGL1 MATLAB solver "
   ]
  },
  {
   "cell_type": "code",
   "execution_count": 1,
   "metadata": {},
   "outputs": [],
   "source": [
    "%load_ext autoreload\n",
    "%autoreload 2\n",
    "%matplotlib inline\n",
    "\n",
    "import warnings\n",
    "warnings.filterwarnings('ignore')\n",
    "\n",
    "import numpy as np\n",
    "import matplotlib.pyplot as plt\n",
    "\n",
    "from scipy.sparse import spdiags\n",
    "from scipy.sparse.linalg import lsqr as splsqr\n",
    "from spgl1.lsqr import lsqr\n",
    "from spgl1 import spgl1, spg_lasso, spg_bp, spg_bpdn, spg_mmv\n",
    "\n",
    "# Initialize random number generators\n",
    "np.random.seed(43273289)"
   ]
  },
  {
   "cell_type": "code",
   "execution_count": 2,
   "metadata": {},
   "outputs": [],
   "source": [
    "# Create random m-by-n encoding matrix and sparse vector\n",
    "m = 50\n",
    "n = 128\n",
    "k = 14\n",
    "[A,Rtmp] = np.linalg.qr(np.random.randn(n,m),'reduced')\n",
    "A  = A.T\n",
    "p  = np.random.permutation(n)\n",
    "p = p[0:k]\n",
    "x0 = np.zeros(n)\n",
    "x0[p] = np.random.randn(k)"
   ]
  },
  {
   "cell_type": "markdown",
   "metadata": {},
   "source": [
    "Solve the underdetermined LASSO problem for $||x||_1 <= \\pi$:\n",
    "\n",
    "$$min.||Ax-b||_2 \\quad subject \\quad  to \\quad ||x||_1 <= \\pi$$"
   ]
  },
  {
   "cell_type": "code",
   "execution_count": 3,
   "metadata": {},
   "outputs": [
    {
     "name": "stdout",
     "output_type": "stream",
     "text": [
      "\n",
      "================================================================================\n",
      "SPGL1\n",
      "================================================================================\n",
      "No. rows              :       50     \n",
      "No. columns           :      128\n",
      "\n",
      "Initial tau           : 3.14e+00     \n",
      "Two-norm of b         : 3.40e+00\n",
      "\n",
      "Optimality tol        : 1.00e-04     \n",
      "Target one-norm of x  : 3.14e+00\n",
      "\n",
      "Basis pursuit tol     : 1.00e-06     \n",
      "Maximum iterations    :      500\n",
      "\n",
      "\n",
      "\n",
      "EXIT -- Optimal solution found\n",
      "\n",
      "\n",
      "Products with A     :       1        Total time   (secs) :     0.0\n",
      "Products with A^H   :       8        Project time (secs) :     0.0\n",
      "Newton iterations   :       0        Mat-vec time (secs) :     0.0\n",
      "Line search its     :       0        Subspace iterations :       0\n",
      "----------------------------------- Solution -----------------------------------\n",
      "nonzeros(x) = 7,   ||x||_1 = 3.141593e+00,   ||x||_1 - pi =  8.881784e-16\n",
      "--------------------------------------------------------------------------------\n",
      " \n"
     ]
    }
   ],
   "source": [
    "b = A.dot(x0)\n",
    "tau = np.pi\n",
    "x,resid,grad,info = spg_lasso(A, b, tau, verbosity=1)\n",
    "\n",
    "print('%s%s%s' % ('-'*35,' Solution ','-'*35))\n",
    "print('nonzeros(x) = %i,   ||x||_1 = %12.6e,   ||x||_1 - pi = %13.6e' % \\\n",
    "        (np.sum(abs(x)>1e-5), np.linalg.norm(x,1), np.linalg.norm(x,1)-np.pi))\n",
    "print('%s%s ' % ('-'*80, '\\n'))"
   ]
  },
  {
   "cell_type": "markdown",
   "metadata": {},
   "source": [
    "Solve the basis pursuit (BP) problem:\n",
    "\n",
    "$$min.  ||x||_1 \\quad subject \\quad  to \\quad  Ax = b$$"
   ]
  },
  {
   "cell_type": "code",
   "execution_count": 4,
   "metadata": {
    "scrolled": false
   },
   "outputs": [
    {
     "name": "stdout",
     "output_type": "stream",
     "text": [
      "\n",
      "================================================================================\n",
      "SPGL1\n",
      "================================================================================\n",
      "No. rows              :       50     \n",
      "No. columns           :      128\n",
      "\n",
      "Initial tau           : 0.00e+00     \n",
      "Two-norm of b         : 3.40e+00\n",
      "\n",
      "Optimality tol        : 1.00e-04     \n",
      "Target objective      : 0.00e+00\n",
      "\n",
      "Basis pursuit tol     : 1.00e-06     \n",
      "Maximum iterations    :      500\n",
      "\n",
      "iterr      Objective   Relative Gap  Rel Error      gNorm   stepG    nnzX    nnzG     tau\n",
      "\n",
      "    0  3.3978494e+00  0.0000000e+00   1.00e+00  8.995e-01     0.0       0       0  1.2834830e+01\n",
      "    1  1.4610032e+00  1.6532743e+00   1.00e+00  3.459e-01    -0.6      67       1               \n",
      "    2  1.2957367e+00  1.4480527e+00   1.00e+00  3.057e-01     0.0      53       1               \n",
      "    3  1.0445582e+00  1.0186987e+00   1.00e+00  2.394e-01     0.0      33       1               \n",
      "    4  9.8320803e-01  1.9671347e+00   9.83e-01  3.006e-01     0.0      17       1               \n",
      "    5  1.0408537e+00  2.7237524e+00   1.00e+00  3.273e-01     0.0      15       1               \n",
      "    6  8.3766484e-01  4.4627639e-01   8.38e-01  1.829e-01     0.0      20       1               \n",
      "    7  8.2370803e-01  2.1784189e-01   8.24e-01  1.661e-01     0.0      16       1               \n",
      "    8  8.1471442e-01  1.0576174e-01   8.15e-01  1.582e-01     0.0      15       1               \n",
      "    9  8.1352564e-01  1.2833205e-01   8.14e-01  1.618e-01     0.0      12       2               \n",
      "   10  8.1346284e-01  1.2136051e-01   8.13e-01  1.595e-01     0.0      12       3               \n",
      "   12  8.1283336e-01  1.6431186e-03   8.13e-01  1.509e-01     0.0      12      12  1.7214207e+01\n",
      "   20  1.0262800e-01  3.7124664e-02   1.03e-01  1.684e-02     0.0      55       5               \n",
      "   30  5.8775070e-02  2.1151854e-02   5.88e-02  9.905e-03     0.0      26       5               \n",
      "   39  5.6081993e-02  3.4487799e-03   5.61e-02  9.059e-03     0.0      16      16  1.7561410e+01\n",
      "   40  1.3497461e-02  2.3368157e-02   1.35e-02  2.563e-03     0.0      61      17               \n",
      "   50  6.5248570e-03  2.5729401e-02   6.52e-03  2.012e-03    -0.6      44       8               \n",
      "   60  3.6779037e-03  8.0294188e-03   3.68e-03  8.458e-04    -0.9      30      30               \n",
      "   70  1.7198692e-03  6.8520394e-04   1.72e-03  2.801e-04     0.0      17      17               \n",
      "   80  1.3668596e-03  8.5588976e-05   1.37e-03  2.204e-04     0.0      14      14               \n",
      "   82  1.3666459e-03  1.8193225e-05   1.37e-03  2.163e-04     0.0      14      14  1.7570044e+01\n",
      "   90  1.3860943e-04  4.2028246e-05   1.39e-04  2.222e-05     0.0      14      14               \n",
      "   98  8.6425580e-05  5.4782379e-05   8.64e-05  1.545e-05     0.0      14      14               \n",
      "\n",
      "\n",
      "EXIT -- Found a root\n",
      "\n",
      "\n",
      "Products with A     :      33        Total time   (secs) :     0.1\n",
      "Products with A^H   :      99        Project time (secs) :     0.0\n",
      "Newton iterations   :       4        Mat-vec time (secs) :     0.0\n",
      "Line search its     :      32        Subspace iterations :       0\n"
     ]
    },
    {
     "data": {
      "text/plain": [
       "Text(0.5, 1.0, '(a) Basis Pursuit')"
      ]
     },
     "execution_count": 4,
     "metadata": {},
     "output_type": "execute_result"
    },
    {
     "data": {
      "image/png": "[encoded data removed]",
      "text/plain": [
       "<Figure size 432x288 with 1 Axes>"
      ]
     },
     "metadata": {
      "needs_background": "light"
     },
     "output_type": "display_data"
    }
   ],
   "source": [
    "b = A.dot(x0) # signal\n",
    "x,resid,grad,info = spg_bp(A, b, verbosity=2)\n",
    "\n",
    "plt.figure()\n",
    "plt.plot(x,'b')\n",
    "plt.plot(x0,'ro')\n",
    "plt.legend(('Recovered coefficients','Original coefficients'))\n",
    "plt.title('(a) Basis Pursuit')"
   ]
  },
  {
   "cell_type": "code",
   "execution_count": 5,
   "metadata": {},
   "outputs": [
    {
     "data": {
      "text/plain": [
       "Text(0, 0.5, '$||r||_2$')"
      ]
     },
     "execution_count": 5,
     "metadata": {},
     "output_type": "execute_result"
    },
    {
     "data": {
      "image/png": "[encoded data removed]",
      "text/plain": [
       "<Figure size 432x288 with 1 Axes>"
      ]
     },
     "metadata": {
      "needs_background": "light"
     },
     "output_type": "display_data"
    },
    {
     "data": {
      "image/png": "[encoded data removed]",
      "text/plain": [
       "<Figure size 432x288 with 1 Axes>"
      ]
     },
     "metadata": {
      "needs_background": "light"
     },
     "output_type": "display_data"
    }
   ],
   "source": [
    "plt.figure()\n",
    "plt.plot(info['xNorm1'], info['rNorm2'], '.-k')\n",
    "plt.xlabel(r'$||x||_1$')\n",
    "plt.ylabel(r'$||r||_2$')\n",
    "\n",
    "plt.figure()\n",
    "plt.plot(np.arange(info['iterr']), info['rNorm2']/max(info['rNorm2']), '.-k')\n",
    "plt.plot(np.arange(info['iterr']), info['xNorm1']/max(info['xNorm1']), '.-r')\n",
    "plt.xlabel(r'#iter')\n",
    "plt.ylabel(r'$||r||_2$')"
   ]
  },
  {
   "cell_type": "markdown",
   "metadata": {},
   "source": [
    "Solve the basis pursuit denoise (BPDN) problem:\n",
    "\n",
    "$$min. ||x||_1 \\quad subject \\quad to \\quad ||Ax - b||_2 <= 0.1$$"
   ]
  },
  {
   "cell_type": "code",
   "execution_count": 6,
   "metadata": {},
   "outputs": [
    {
     "name": "stdout",
     "output_type": "stream",
     "text": [
      "\n",
      "================================================================================\n",
      "SPGL1\n",
      "================================================================================\n",
      "No. rows              :       50     \n",
      "No. columns           :      128\n",
      "\n",
      "Initial tau           : 0.00e+00     \n",
      "Two-norm of b         : 3.49e+00\n",
      "\n",
      "Optimality tol        : 1.00e-04     \n",
      "Target objective      : 1.00e-01\n",
      "\n",
      "Basis pursuit tol     : 1.00e-06     \n",
      "Maximum iterations    :       10\n",
      "\n",
      "iterr      Objective   Relative Gap  Rel Error      gNorm   stepG    nnzX    nnzG     tau\n",
      "\n",
      "    0  3.4876525e+00  0.0000000e+00   9.71e-01  8.998e-01     0.0       0       0  1.3130733e+01\n",
      "    1  1.5278506e+00  1.5445083e+00   9.35e-01  3.512e-01    -0.6      70       1               \n",
      "    2  1.3785367e+00  1.3210423e+00   9.27e-01  3.004e-01     0.0      48       1               \n",
      "    3  1.1435885e+00  1.0754951e+00   9.13e-01  2.436e-01     0.0      36       1               \n",
      "    4  1.0650070e+00  1.8808347e+00   9.06e-01  3.058e-01     0.0      24       1               \n",
      "    5  1.1055544e+00  1.9676460e+00   9.10e-01  2.609e-01     0.0      14       1               \n",
      "    6  9.7104698e-01  5.0757852e-01   8.71e-01  1.910e-01     0.0      21       1               \n",
      "    7  9.5573059e-01  2.5393233e-01   8.56e-01  1.677e-01     0.0      20       1               \n",
      "    8  9.5003110e-01  1.6053048e-01   8.50e-01  1.613e-01     0.0      19       1               \n",
      "    9  9.4642238e-01  6.3958437e-02   8.46e-01  1.545e-01     0.0      16       1               \n",
      "\n",
      "\n",
      "ERROR EXIT -- Too many iterations\n",
      "\n",
      "\n",
      "Products with A     :       3        Total time   (secs) :     0.0\n",
      "Products with A^H   :      10        Project time (secs) :     0.0\n",
      "Newton iterations   :       1        Mat-vec time (secs) :     0.0\n",
      "Line search its     :       2        Subspace iterations :       0\n"
     ]
    },
    {
     "data": {
      "text/plain": [
       "Text(0.5, 1.0, '(b) Basis Pursuit Denoise')"
      ]
     },
     "execution_count": 6,
     "metadata": {},
     "output_type": "execute_result"
    },
    {
     "data": {
      "image/png": "[encoded data removed]",
      "text/plain": [
       "<Figure size 432x288 with 1 Axes>"
      ]
     },
     "metadata": {
      "needs_background": "light"
     },
     "output_type": "display_data"
    }
   ],
   "source": [
    "b = A.dot(x0) + np.random.randn(m) * 0.075\n",
    "sigma = 0.10  #     % Desired ||Ax - b||_2\n",
    "x,resid,grad,info = spg_bpdn(A, b, sigma, iterations=10, verbosity=2)\n",
    "\n",
    "plt.figure()\n",
    "plt.plot(x,'b')\n",
    "plt.plot(x0,'ro')\n",
    "plt.legend(('Recovered coefficients','Original coefficients'))\n",
    "plt.title('(b) Basis Pursuit Denoise')"
   ]
  },
  {
   "cell_type": "markdown",
   "metadata": {},
   "source": [
    "Solve the basis pursuit (BP) problem in COMPLEX variables:\n",
    "\n",
    "$$min. ||z||_1 \\quad subject \\quad to \\quad  Az = b$$"
   ]
  },
  {
   "cell_type": "code",
   "execution_count": 7,
   "metadata": {},
   "outputs": [
    {
     "name": "stdout",
     "output_type": "stream",
     "text": [
      "\n",
      "================================================================================\n",
      "SPGL1\n",
      "================================================================================\n",
      "No. rows              :       50     \n",
      "No. columns           :      128\n",
      "\n",
      "Initial tau           : 0.00e+00     \n",
      "Two-norm of b         : 3.23e+00\n",
      "\n",
      "Optimality tol        : 1.00e-04     \n",
      "Target objective      : 0.00e+00\n",
      "\n",
      "Basis pursuit tol     : 1.00e-06     \n",
      "Maximum iterations    :      500\n",
      "\n",
      "iterr      Objective   Relative Gap  Rel Error      gNorm   stepG    nnzX    nnzG     tau\n",
      "\n",
      "    0  3.2278608e+00  0.0000000e+00   1.00e+00  9.900e-01     0.0       0       0  1.0524266e+01\n",
      "    1  1.7448418e+00  1.9165918e+00   1.00e+00  5.168e-01    -0.6      95       0               \n",
      "    2  1.4600574e+00  1.5883031e+00   1.00e+00  3.875e-01     0.0      57       0               \n",
      "    3  1.1700012e+00  7.2057823e-01   1.00e+00  2.294e-01     0.0      21       0               \n",
      "    4  1.1387081e+00  6.0492162e-01   1.00e+00  2.591e-01     0.0      14       0               \n",
      "    5  1.1192644e+00  6.3143375e-01   1.00e+00  2.339e-01     0.0      13       0               \n",
      "    6  1.1110267e+00  2.5990247e-02   1.00e+00  1.887e-01     0.0      14       1               \n",
      "    7  1.1109277e+00  1.8665102e-02   1.00e+00  1.882e-01     0.0      14       1               \n",
      "    8  1.1109130e+00  9.8075648e-03   1.00e+00  1.876e-01     0.0      14       1  1.7103189e+01\n",
      "    9  4.0897300e-01  2.0290430e+00   4.09e-01  1.096e-01     0.0      33       0               \n",
      "   10  2.4260476e-01  3.0388666e-01   2.43e-01  5.139e-02     0.0      84       0               \n",
      "   20  7.3650716e-02  1.5598522e-01   7.37e-02  1.898e-02    -0.6      36       0               \n",
      "   30  3.9788017e-02  1.6542005e-03   3.98e-02  6.363e-03     0.0      15       6               \n",
      "   32  3.9782650e-02  1.1422408e-03   3.98e-02  6.356e-03     0.0      14       6  1.7352196e+01\n",
      "   40  5.2988817e-03  2.3780252e-03   5.30e-03  8.349e-04     0.0      45      37               \n",
      "   50  1.0390584e-03  8.2222317e-04   1.04e-03  1.846e-04     0.0      14      14               \n",
      "   60  4.3109474e-04  2.4525356e-04   4.31e-04  8.092e-05     0.0      14      14               \n",
      "   65  4.2277718e-04  2.9841815e-06   4.23e-04  6.689e-05     0.0      14      14  1.7354868e+01\n",
      "   68  6.8723628e-05  5.4983718e-05   6.87e-05  1.067e-05     0.0      14      14               \n",
      "\n",
      "\n",
      "EXIT -- Found a root\n",
      "\n",
      "\n",
      "Products with A     :      17        Total time   (secs) :     0.0\n",
      "Products with A^H   :      69        Project time (secs) :     0.0\n",
      "Newton iterations   :       4        Mat-vec time (secs) :     0.0\n",
      "Line search its     :      16        Subspace iterations :       0\n"
     ]
    },
    {
     "data": {
      "image/png": "[encoded data removed]",
      "text/plain": [
       "<Figure size 432x288 with 1 Axes>"
      ]
     },
     "metadata": {
      "needs_background": "light"
     },
     "output_type": "display_data"
    }
   ],
   "source": [
    "from scipy.sparse.linalg import LinearOperator\n",
    "\n",
    "class partialFourier(LinearOperator):\n",
    "    def __init__(self, idx, n):\n",
    "        self.idx = idx\n",
    "        self.n = n\n",
    "        self.shape = (len(idx), n)\n",
    "        self.dtype = np.complex128\n",
    "    def _matvec(self, x): \n",
    "        # % y = P(idx) * FFT(x)\n",
    "        z = np.fft.fft(x) / np.sqrt(n)\n",
    "        return z[idx]\n",
    "    def _rmatvec(self, x): \n",
    "        z = np.zeros(n,dtype=complex)\n",
    "        z[idx] = x\n",
    "        return np.fft.ifft(z) * np.sqrt(n)\n",
    "\n",
    "    \n",
    "# % Create partial Fourier operator with rows idx\n",
    "idx = np.random.permutation(n)\n",
    "idx = idx[0:m]\n",
    "opA = partialFourier(idx, n)\n",
    "\n",
    "# % Create sparse coefficients and b = 'A' * z0;\n",
    "z0 = np.zeros(n,dtype=complex)\n",
    "z0[p] = np.random.randn(k) + 1j * np.random.randn(k)\n",
    "b = opA.matvec(z0)\n",
    "\n",
    "z,resid,grad,info = spg_bp(opA,b, verbosity=2)\n",
    "\n",
    "plt.figure()\n",
    "plt.plot(z.real,'b+',markersize=15.0)\n",
    "plt.plot(z0.real,'bo')\n",
    "plt.plot(z.imag,'r+',markersize=15.0)\n",
    "plt.plot(z0.imag,'ro')\n",
    "plt.legend(('Recovered (real)', 'Original (real)', 'Recovered (imag)', 'Original (imag)'))\n",
    "plt.title('(c) Complex Basis Pursuit');"
   ]
  },
  {
   "cell_type": "markdown",
   "metadata": {},
   "source": [
    "Sample the Pareto frontier at 100 points:\n",
    "  \n",
    "$$phi(tau) = min. ||Ax-b||_2 \\quad subject \\quad to \\quad ||x|| <= \\tau$$"
   ]
  },
  {
   "cell_type": "code",
   "execution_count": 8,
   "metadata": {},
   "outputs": [
    {
     "data": {
      "image/png": "[encoded data removed]",
      "text/plain": [
       "<Figure size 432x288 with 1 Axes>"
      ]
     },
     "metadata": {
      "needs_background": "light"
     },
     "output_type": "display_data"
    }
   ],
   "source": [
    "b = A.dot(x0)\n",
    "x = np.zeros(n)\n",
    "tau = np.linspace(0, 1.05 * np.linalg.norm(x0, 1), 100)\n",
    "tau[0] = 1e-10\n",
    "phi = np.zeros(tau.size)\n",
    "\n",
    "for i in range(tau.size):\n",
    "    x,r,grad,info = spgl1(A,b,tau[i],0,x, iterations=1000)\n",
    "    phi[i] = np.linalg.norm(r)\n",
    "\n",
    "plt.figure()\n",
    "plt.plot(tau,phi, '.')\n",
    "plt.title('(d) Pareto frontier')\n",
    "plt.xlabel('||x||_1')\n",
    "plt.ylabel('||Ax-b||_2');"
   ]
  },
  {
   "cell_type": "markdown",
   "metadata": {},
   "source": [
    "Solve\n",
    "\n",
    "$$min. ||y||_1 \\quad subject \\quad  to \\quad AW^{-1}y = b$$\n",
    "\n",
    "and the weighted basis pursuit (BP) problem:\n",
    "\n",
    "$$min. ||Wx||_1 \\quad subject \\quad to \\quad Ax = b$$\n",
    "\n",
    "followed by setting $y = Wx$."
   ]
  },
  {
   "cell_type": "code",
   "execution_count": 9,
   "metadata": {},
   "outputs": [
    {
     "data": {
      "text/plain": [
       "Text(0.5, 1.0, '(e) Weighted Basis Pursuit')"
      ]
     },
     "execution_count": 9,
     "metadata": {},
     "output_type": "execute_result"
    },
    {
     "data": {
      "image/png": "[encoded data removed]",
      "text/plain": [
       "<Figure size 432x288 with 1 Axes>"
      ]
     },
     "metadata": {
      "needs_background": "light"
     },
     "output_type": "display_data"
    }
   ],
   "source": [
    "# Sparsify vector x0 a bit more to get exact recovery\n",
    "k = 9\n",
    "x0 = np.zeros(n)\n",
    "x0[p[0:k]] = np.random.randn(k)\n",
    "\n",
    "# Set up weights w and vector b\n",
    "w = np.random.rand(n) + 0.1 # Weights\n",
    "b = A.dot(x0/w) # Signal\n",
    "\n",
    "x,resid,grad,info = spg_bp(A, b, **dict(iterations=1000, weights=w))\n",
    "# Reconstructed solution, with weighting\n",
    "x1 = x * w\n",
    "\n",
    "plt.figure()\n",
    "plt.plot(x1,'b')\n",
    "plt.plot(x0,'ro')\n",
    "plt.legend(('Coefficients (1)','Original coefficients'))\n",
    "plt.title('(e) Weighted Basis Pursuit')"
   ]
  },
  {
   "cell_type": "markdown",
   "metadata": {},
   "source": [
    "Solve the multiple measurement vector (MMV) problem\n",
    "\n",
    "$$min. ||Y||_{1,2}  \\quad subject \\quad to \\quad  AW^{-1}Y = B$$\n",
    "\n",
    "and the weighted MMV problem (weights on the rows of X):\n",
    "\n",
    "$$min. ||WX||_{1,2} \\quad subject \\quad to \\quad AX = B$$\n",
    "\n",
    "followed by setting $Y = WX$."
   ]
  },
  {
   "cell_type": "code",
   "execution_count": 10,
   "metadata": {
    "scrolled": false
   },
   "outputs": [
    {
     "name": "stdout",
     "output_type": "stream",
     "text": [
      "\n",
      "================================================================================\n",
      "SPGL1\n",
      "================================================================================\n",
      "No. rows              :      600     \n",
      "No. columns           :      900\n",
      "\n",
      "Initial tau           : 0.00e+00     \n",
      "Two-norm of b         : 2.17e+02\n",
      "\n",
      "Optimality tol        : 1.00e-04     \n",
      "Target objective      : 0.00e+00\n",
      "\n",
      "Basis pursuit tol     : 1.00e-06     \n",
      "Maximum iterations    :     6000\n",
      "\n",
      "\n",
      "\n",
      "EXIT -- Found a BP solution\n",
      "\n",
      "\n",
      "Products with A     :    1872        Total time   (secs) :     3.7\n",
      "Products with A^H   :    1966        Project time (secs) :     0.0\n",
      "Newton iterations   :      11        Mat-vec time (secs) :     0.0\n",
      "Line search its     :    1871        Subspace iterations :       0\n",
      "\n",
      "================================================================================\n",
      "SPGL1\n",
      "================================================================================\n",
      "No. rows              :      600     \n",
      "No. columns           :      900\n",
      "\n",
      "Initial tau           : 0.00e+00     \n",
      "Two-norm of b         : 2.17e+02\n",
      "\n",
      "Optimality tol        : 1.00e-04     \n",
      "Target objective      : 0.00e+00\n",
      "\n",
      "Basis pursuit tol     : 1.00e-06     \n",
      "Maximum iterations    :     6000\n",
      "\n",
      "iterr      Objective   Relative Gap  Rel Error      gNorm   stepG    nnzX    nnzG     tau\n",
      "\n",
      "    0  2.1716491e+02  0.0000000e+00   1.00e+00  1.391e+04     0.0       0       0  3.3905250e+00\n",
      "    1  1.7532450e+02  1.9512754e+00   1.00e+00  1.097e+04    -0.6     183       0               \n",
      "    2  9.4752147e+01  9.7326381e-01   1.00e+00  3.508e+03     0.0      36       0               \n",
      "    3  7.7266576e+01  1.3024348e-01   1.00e+00  1.103e+03     0.0      22       0               \n",
      "    4  7.5997989e+01  2.1500307e-02   1.00e+00  7.211e+02     0.0      12       0               \n",
      "    5  7.5995381e+01  2.0022332e-03   1.00e+00  7.219e+02     0.0      12       0  1.1390996e+01\n",
      "    6  4.0133315e+01  7.6997077e+00   1.00e+00  5.967e+02     0.0     132       0               \n",
      "    7  3.3258542e+01  1.5708992e+00   1.00e+00  2.079e+02     0.0     178       0               \n",
      "    8  3.1730346e+01  5.9581932e-01   1.00e+00  1.449e+02     0.0     168       0               \n",
      "    9  3.1140895e+01  2.7412116e-01   1.00e+00  1.241e+02     0.0     143       0               \n",
      "   10  3.0857667e+01  5.6166684e-01   1.00e+00  1.198e+02     0.0      89       0               \n",
      "   14  3.0830817e+01  4.8077103e-03   1.00e+00  1.038e+02     0.0      91       0  2.0551908e+01\n",
      "   20  9.6010257e+00  2.9180140e+01   1.00e+00  8.350e+01     0.0     225       0               \n",
      "   29  8.8563942e+00  8.1816457e-02   1.00e+00  1.526e+01     0.0     182       5  2.5693073e+01\n",
      "   30  4.5650471e+00  1.1948597e+02   1.00e+00  4.244e+01     0.0     447       0               \n",
      "   40  1.0964292e+00  5.4934220e+01   1.00e+00  3.053e+00     0.0     424       0               \n",
      "   50  3.5355611e-01  1.9684648e+01   3.54e-01  1.256e+00     0.0     140       0               \n",
      "   60  3.3653488e-01  2.1656589e-01   3.37e-01  5.492e-01     0.0      95       8               \n",
      "   61  3.3654612e-01  9.7546788e-01   3.37e-01  5.775e-01     0.0      95       8  2.5889188e+01\n",
      "   70  5.5074258e-02  1.8937969e+00   5.51e-02  1.207e-01     0.0      85       0               \n",
      "   80  2.4647285e-02  4.3683972e+00   2.46e-02  1.929e-01    -0.6      72       0               \n",
      "   90  2.1514885e-02  8.4869850e-03   2.15e-02  3.475e-02     0.0      72       8  2.5902508e+01\n",
      "  100  3.1209626e-03  1.9402054e-01   3.12e-03  9.990e-03     0.0      72       0               \n",
      "  110  1.0062512e-03  1.8110567e-01   1.01e-03  7.834e-03     0.0      72       0               \n",
      "  120  3.7930156e-04  6.4871289e-02   3.79e-04  2.822e-03    -0.3      72       0               \n",
      "  130  1.5830458e-04  3.8792924e-03   1.58e-04  3.632e-04     0.0      72      72               \n",
      "  140  1.4847984e-04  4.8701657e-05   1.48e-04  2.388e-04     0.0      72      72               \n",
      "\n",
      "\n",
      "EXIT -- Found a BP solution\n",
      "\n",
      "\n",
      "Products with A     :      29        Total time   (secs) :     0.2\n",
      "Products with A^H   :     141        Project time (secs) :     0.0\n",
      "Newton iterations   :       6        Mat-vec time (secs) :     0.0\n",
      "Line search its     :      28        Subspace iterations :       0\n"
     ]
    },
    {
     "data": {
      "image/png": "[encoded data removed]",
      "text/plain": [
       "<Figure size 432x288 with 1 Axes>"
      ]
     },
     "metadata": {
      "needs_background": "light"
     },
     "output_type": "display_data"
    },
    {
     "data": {
      "image/png": "[encoded data removed]",
      "text/plain": [
       "<Figure size 432x288 with 1 Axes>"
      ]
     },
     "metadata": {
      "needs_background": "light"
     },
     "output_type": "display_data"
    }
   ],
   "source": [
    "# Create problem\n",
    "m = 100\n",
    "n = 150\n",
    "k = 12\n",
    "l = 6;\n",
    "A = np.random.randn(m, n)\n",
    "p = np.random.permutation(n)[:k]\n",
    "X0 = np.zeros((n, l))\n",
    "X0[p, :] = np.random.randn(k, l)\n",
    "\n",
    "weights = 3 * np.random.rand(n) + 0.1\n",
    "W = 1/weights * np.eye(n)\n",
    "\n",
    "B = A.dot(W).dot(X0)\n",
    "\n",
    "# Solve unweighted version\n",
    "x_uw, _, _, _ = spg_mmv(A.dot(W), B, 0, **dict(verbosity=1))\n",
    "\n",
    "# Solve weighted version\n",
    "x_w, _, _, _ = spg_mmv(A, B, 0, **dict(verbosity=2, weights=weights))\n",
    "x_w = spdiags(weights, 0, n, n).dot(x_w)\n",
    "\n",
    "# Plot results\n",
    "plt.figure()\n",
    "plt.plot(x_uw[:, 0], 'b-', label='Coefficients (1)')\n",
    "plt.plot(x_w[:, 0], 'b.', label='Coefficients (2)')\n",
    "plt.plot(X0[:, 0], 'ro', label='Original coefficients')\n",
    "plt.legend()\n",
    "plt.title('(f) Weighted Basis Pursuit with Multiple Measurement Vectors');\n",
    "\n",
    "plt.figure()\n",
    "plt.plot(x_uw[:, 1], 'b-', label='Coefficients (1)')\n",
    "plt.plot(x_w[:, 1], 'b.', label='Coefficients (2)')\n",
    "plt.plot(X0[:, 1], 'ro', label='Original coefficients')\n",
    "plt.legend()\n",
    "plt.title('(f) Weighted Basis Pursuit with Multiple Measurement Vectors');"
   ]
  },
  {
   "cell_type": "markdown",
   "metadata": {},
   "source": [
    "Let's finally try to compare the internal lsqr with scipy lsqr and perform sgpl1 with subspace minimization"
   ]
  },
  {
   "cell_type": "code",
   "execution_count": 11,
   "metadata": {},
   "outputs": [],
   "source": [
    "def Aprodfun(A, x, mode):\n",
    "    if mode == 1:\n",
    "        y = np.dot(A,x)\n",
    "    else:\n",
    "        return np.dot(np.conj(A.T), x)\n",
    "    return y"
   ]
  },
  {
   "cell_type": "code",
   "execution_count": 12,
   "metadata": {},
   "outputs": [
    {
     "name": "stdout",
     "output_type": "stream",
     "text": [
      " \n",
      "LSQR            Least-squares solution of  Ax = b\n",
      "The matrix A has       20 rows  and       10 cols\n",
      "damp = 1.00000000000000e-05    wantvar =        1\n",
      "atol = 1.00e-05                 conlim = 1.00e+12\n",
      "btol = 1.00e-05                 itnlim =      100\n",
      " \n",
      "   Itn      x(1)       r1norm     r2norm  Compatible   LS      Norm A   Cond A\n",
      "     0  0.00000e+00  1.837e+01  1.837e+01   1.0e+00  3.5e-01\n",
      "     1  2.55934e-01  5.619e+00  5.619e+00   3.1e-01  2.5e-01  6.7e+00  1.0e+00\n",
      "     2  8.35801e-01  2.113e+00  2.113e+00   1.1e-01  7.1e-02  8.8e+00  2.1e+00\n",
      "     3  1.02307e+00  1.172e+00  1.172e+00   6.4e-02  3.9e-02  1.0e+01  3.3e+00\n",
      "     4  1.07123e+00  5.373e-01  5.373e-01   2.9e-02  1.7e-02  1.1e+01  4.7e+00\n",
      "     5  1.03281e+00  2.622e-01  2.622e-01   1.4e-02  6.8e-03  1.2e+01  6.1e+00\n",
      "     6  1.01731e+00  8.979e-02  8.979e-02   4.9e-03  2.0e-03  1.3e+01  7.7e+00\n",
      "     7  1.01060e+00  6.333e-02  6.333e-02   3.4e-03  1.7e-03  1.3e+01  8.9e+00\n",
      "     8  9.99827e-01  2.831e-03  2.831e-03   1.5e-04  8.1e-05  1.4e+01  1.1e+01\n",
      "     9  9.99861e-01  8.889e-04  8.894e-04   4.8e-05  2.2e-05  1.4e+01  1.2e+01\n",
      "    10  1.00000e+00  6.437e-11  3.162e-05   1.7e-06  1.1e-13  1.5e+01  1.4e+01\n",
      " \n",
      "LSQR finished\n",
      "Ax - b is small enough, given atol, btol                  \n",
      " \n",
      "istop =       1   r1norm = 6.4e-11   anorm = 1.5e+01   arnorm = 1.3e-11\n",
      "itn   =      10   r2norm = 3.2e-05   acond = 1.4e+01   xnorm  = 3.2e+00\n",
      " \n",
      "nprodA 10\n",
      "nprodA 11\n",
      " \n",
      "LSQR            Least-squares solution of  Ax = b\n",
      "The matrix A has       20 rows  and       10 cols\n",
      "damp = 1.00000000000000e-05   calc_var =        0\n",
      "atol = 1.00e-05                 conlim = 1.00e+12\n",
      "btol = 1.00e-05               iter_lim =      100\n",
      " \n",
      "   Itn      x[0]       r1norm     r2norm   Compatible    LS      Norm A   Cond A\n",
      "     0  0.00000e+00   1.837e+01  1.837e+01    1.0e+00  3.5e-01\n",
      "     1  2.55934e-01   5.619e+00  5.619e+00    3.1e-01  7.7e-01   6.7e+00  1.0e+00\n",
      "     2  8.35801e-01   2.113e+00  2.113e+00    1.1e-01  4.5e-01   8.8e+00  2.1e+00\n",
      "     3  1.02307e+00   1.172e+00  1.172e+00    6.4e-02  3.9e-01   1.0e+01  3.3e+00\n",
      "     4  1.07123e+00   5.373e-01  5.373e-01    2.9e-02  3.2e-01   1.1e+01  4.7e+00\n",
      "     5  1.03281e+00   2.622e-01  2.622e-01    1.4e-02  2.5e-01   1.2e+01  6.1e+00\n",
      "     6  1.01731e+00   8.979e-02  8.979e-02    4.9e-03  2.1e-01   1.3e+01  7.7e+00\n",
      "     7  1.01060e+00   6.333e-02  6.333e-02    3.4e-03  2.3e-01   1.3e+01  8.9e+00\n",
      "     8  9.99827e-01   2.831e-03  2.831e-03    1.5e-04  2.4e-01   1.4e+01  1.1e+01\n",
      "     9  9.99861e-01   8.889e-04  8.894e-04    4.8e-05  2.0e-01   1.4e+01  1.2e+01\n",
      "    10  1.00000e+00   6.441e-11  3.162e-05    1.7e-06  4.2e-08   1.5e+01  1.4e+01\n",
      " \n",
      "LSQR finished\n",
      "Ax - b is small enough, given atol, btol                  \n",
      " \n",
      "istop =       1   r1norm = 6.4e-11   anorm = 1.5e+01   arnorm = 1.9e-11\n",
      "itn   =      10   r2norm = 3.2e-05   acond = 1.4e+01   xnorm  = 3.2e+00\n",
      " \n",
      "istop=1, itn=10, r1norm=0.00, r2norm=0.00, anorm=14.73, acond=13.53, arnorm=0.00, xnorm=3.16\n",
      "istop=1, itn=10, r1norm=0.00, r2norm=0.00, anorm=14.73, acond=13.53, arnorm=0.00, xnorm=3.16\n"
     ]
    },
    {
     "data": {
      "text/plain": [
       "(0, 2)"
      ]
     },
     "execution_count": 12,
     "metadata": {},
     "output_type": "execute_result"
    },
    {
     "data": {
      "image/png": "[encoded data removed]",
      "text/plain": [
       "<Figure size 432x288 with 1 Axes>"
      ]
     },
     "metadata": {
      "needs_background": "light"
     },
     "output_type": "display_data"
    }
   ],
   "source": [
    "n = 10\n",
    "m = 20\n",
    "A = np.random.normal(0, 1, (m, n))\n",
    "Aprod = lambda x, mode: Aprodfun(A, x, mode)\n",
    "x = np.ones(n)\n",
    "y = A.dot(x)\n",
    "\n",
    "damp       = 1e-5\n",
    "aTol       = 1e-5\n",
    "bTol       = 1e-5\n",
    "conLim     = 1e12\n",
    "itnMaxLSQR = 100\n",
    "showLSQR   = 2\n",
    "\n",
    "xinv, istop, itn, r1norm, r2norm, anorm, acond, arnorm, xnorm, var = \\\n",
    "    lsqr(m, n, Aprod, y, damp, aTol, bTol, conLim, itnMaxLSQR, showLSQR)\n",
    "      \n",
    "xinv_sp, istop_sp, itn_sp, r1norm_sp, r2norm_sp, anorm_sp, acond_sp, arnorm_sp, xnorm_sp, var = \\\n",
    "    splsqr(A, y, damp, aTol, bTol, conLim, itnMaxLSQR, showLSQR)\n",
    "\n",
    "print('istop=%d, itn=%d, r1norm=%.2f, '\n",
    "      'r2norm=%.2f, anorm=%.2f, acond=%.2f, arnorm=%.2f, xnorm=%.2f' \\\n",
    "      %(istop, itn, r1norm, r2norm, anorm, acond, arnorm, xnorm))\n",
    "\n",
    "print('istop=%d, itn=%d, r1norm=%.2f, '\n",
    "      'r2norm=%.2f, anorm=%.2f, acond=%.2f, arnorm=%.2f, xnorm=%.2f' \\\n",
    "      %(istop_sp, itn_sp, r1norm_sp, r2norm_sp, anorm_sp, acond_sp, arnorm_sp, xnorm_sp))\n",
    "\n",
    "plt.plot(x, lw=8)\n",
    "plt.plot(xinv, '--g', lw=4)\n",
    "plt.plot(xinv_sp, '--r')\n",
    "plt.ylim(0, 2)"
   ]
  },
  {
   "cell_type": "markdown",
   "metadata": {},
   "source": [
    "And use subspace minimization in SPGL1"
   ]
  },
  {
   "cell_type": "code",
   "execution_count": 15,
   "metadata": {
    "scrolled": false
   },
   "outputs": [
    {
     "name": "stdout",
     "output_type": "stream",
     "text": [
      "\n",
      "================================================================================\n",
      "SPGL1\n",
      "================================================================================\n",
      "No. rows              :       50     \n",
      "No. columns           :      128\n",
      "\n",
      "Initial tau           : 0.00e+00     \n",
      "Two-norm of b         : 2.35e+00\n",
      "\n",
      "Optimality tol        : 1.00e-04     \n",
      "Target objective      : 0.00e+00\n",
      "\n",
      "Basis pursuit tol     : 1.00e-06     \n",
      "Maximum iterations    :      500\n",
      "\n",
      "iterr      Objective   Relative Gap  Rel Error      gNorm   stepG    nnzX    nnzG     tau\n",
      "\n",
      "    0  2.3464508e+00  0.0000000e+00   1.00e+00  7.079e-01     0.0       0       0  7.7777690e+00\n",
      "    1  1.2012188e+00  1.1437071e+00   1.00e+00  3.189e-01    -0.6      72       1               \n",
      "    2  1.0579716e+00  7.0833753e-01   1.00e+00  2.535e-01     0.0      46       1               \n",
      "    3  9.0678491e-01  4.5393961e-01   9.07e-01  1.860e-01     0.0      26       1               \n",
      "    4  8.5672660e-01  5.2398586e-01   8.57e-01  2.118e-01     0.0      22       1               \n",
      "    5  8.4108071e-01  8.5864889e-01   8.41e-01  2.082e-01     0.0      18       1               \n",
      "    6  7.9025435e-01  1.5209591e-01   7.90e-01  1.489e-01     0.0      22       1               \n",
      "    7  7.8322709e-01  1.1321546e-01   7.83e-01  1.410e-01     0.0      21       1               \n",
      "    8  7.7844048e-01  9.8321212e-02   7.78e-01  1.383e-01     0.0      19       1               \n",
      "    9  7.7330762e-01  4.6418070e-02   7.73e-01  1.288e-01     0.0      18       4               \n",
      "   10  7.7919997e-01  2.6117476e-01   7.79e-01  1.587e-01     0.0      17       2               \n",
      "   13  7.7212806e-01  2.8095009e-03   7.72e-01  1.243e-01     0.0      16      13  1.2574531e+01\n",
      "   20  1.2868348e-01  1.4406749e-01   1.29e-01  2.465e-02     0.0      60       1               \n",
      "   30  1.1777794e-01  3.7446330e-02   1.18e-01  1.695e-02    -0.9      51       3               \n",
      "   40  1.0995557e-01  1.9407312e-02   1.10e-01  1.501e-02     0.0      48       6               \n",
      "   50  1.0790251e-01  6.7607059e-02   1.08e-01  1.843e-02    -1.5      46       2               \n",
      "   60  1.0213682e-01  1.3163963e-02   1.02e-01  1.352e-02     0.0      42      15               \n",
      "   70  9.6136510e-02  2.2307001e-02   9.61e-02  1.410e-02     0.0      36       7               \n",
      "   80  9.4877960e-02  3.8230539e-03   9.49e-02  1.262e-02     0.0      36      36                S  2\n",
      "   90  9.3503521e-02  9.1535910e-04   9.35e-02  1.262e-02     0.0      32      32                S  1\n",
      "   92  9.3495681e-02  9.4619019e-03   9.35e-02  1.330e-02     0.0      31      21  1.3231895e+01\n",
      "  100  1.3277761e-02  3.6174262e-03   1.33e-02  1.773e-03     0.0      67      67               \n",
      "  110  1.1672853e-02  1.4676607e-03   1.17e-02  1.519e-03     0.0      56      56               \n",
      "  120  1.0727588e-02  8.4488693e-04   1.07e-02  1.356e-03     0.0      52      52                S  3\n",
      "  130  1.0110150e-02  5.6139703e-03   1.01e-02  1.619e-03    -0.6      52      52               \n",
      "  140  9.6454849e-03  7.5381791e-04   9.65e-03  1.221e-03     0.0      51      51               \n",
      "  150  7.1424316e-03  5.7885797e-04   7.14e-03  9.131e-04     0.0      46      46               \n",
      "  160  6.1810514e-03  2.1131432e-03   6.18e-03  8.811e-04     0.0      43      43               \n",
      "  170  6.0300722e-03  4.2106019e-04   6.03e-03  7.674e-04     0.0      43      43               \n",
      "  180  5.8544350e-03  2.5170333e-03   5.85e-03  8.977e-04    -1.8      43      43               \n",
      "  190  5.2418039e-03  2.6715714e-04   5.24e-03  6.710e-04     0.0      36      36               \n",
      "  200  4.9149632e-03  1.5956169e-03   4.91e-03  7.353e-04    -0.3      31      31               \n",
      "  210  4.8253985e-03  4.6498137e-04   4.83e-03  6.492e-04    -0.3      30      30               \n",
      "  220  4.6736909e-03  2.0107698e-04   4.67e-03  6.222e-04     0.0      26      26               \n",
      "  230  4.6020206e-03  3.4526428e-04   4.60e-03  6.381e-04    -0.9      23      23               \n",
      "  234  4.5990108e-03  2.9634152e-04   4.60e-03  6.357e-04    -1.2      23      23  1.3265165e+01\n",
      "  240  5.8991996e-04  4.1496561e-04   5.90e-04  1.002e-04     0.0      28      28               \n",
      "  250  4.9239184e-04  5.0273057e-05   4.92e-04  6.278e-05     0.0      30      30               \n",
      "  260  3.5875272e-04  2.3033245e-04   3.59e-04  6.010e-05     0.0      24      24                S  2\n",
      "  270  3.2342304e-04  3.3047610e-05   3.23e-04  4.146e-05     0.0      21      21                S  1\n",
      "  280  3.1494951e-04  1.2425526e-04   3.15e-04  4.699e-05    -0.6      20      20               \n",
      "  290  2.3060106e-04  6.0801419e-05   2.31e-04  3.255e-05     0.0      17      17                S  1\n",
      "  300  2.0993362e-04  6.5023911e-05   2.10e-04  3.059e-05     0.0      16      16                S  2\n",
      "  310  1.4503065e-04  1.7399592e-05   1.45e-04  1.905e-05     0.0      14      14                S  1\n",
      "  320  1.3535630e-04  1.7487158e-05   1.35e-04  1.783e-05     0.0      14      14                S  1\n",
      "  330  1.3253297e-04  9.7942806e-06   1.33e-04  1.690e-05    -0.3      14      14                S  1\n",
      "  340  1.3005973e-04  9.0084740e-06   1.30e-04  1.663e-05     0.0      14      14                S  1\n",
      "  350  1.2170937e-04  1.7287153e-05   1.22e-04  1.640e-05     0.0      14      14                S  1\n",
      "  360  1.1711874e-04  1.2955444e-05   1.17e-04  1.558e-05     0.0      14      14                S  1\n",
      "  370  1.1276919e-04  1.7137466e-05   1.13e-04  1.555e-05     0.0      14      14                S  1\n",
      "  380  1.0995390e-04  9.6073649e-06   1.10e-04  1.444e-05     0.0      14      14                S  1\n",
      "  390  1.0768333e-04  5.6269954e-06   1.08e-04  1.391e-05     0.0      14      14                S  1\n",
      "  400  1.0575834e-04  5.9655217e-06   1.06e-04  1.410e-05     0.0      14      14                S  2\n",
      "  410  1.0365812e-04  7.7400334e-06   1.04e-04  1.366e-05     0.0      14      14                S  1\n",
      "  420  1.0203474e-04  8.1783140e-06   1.02e-04  1.359e-05     0.0      14      14                S  1\n",
      "  430  1.0082092e-04  7.6176344e-06   1.01e-04  1.345e-05     0.0      14      14                S  1\n",
      "  438  9.9900042e-05  3.9789935e-06   9.99e-05  1.322e-05     0.0      14      14                S  1\n",
      "\n",
      "\n",
      "EXIT -- Found a root\n",
      "\n",
      "\n",
      "Products with A     :     696        Total time   (secs) :     0.4\n",
      "Products with A^H   :    1238        Project time (secs) :     0.0\n",
      "Newton iterations   :       4        Mat-vec time (secs) :     0.0\n",
      "Line search its     :     334        Subspace iterations :     211\n"
     ]
    },
    {
     "data": {
      "text/plain": [
       "Text(0.5, 1.0, '(a) Basis Pursuit')"
      ]
     },
     "execution_count": 15,
     "metadata": {},
     "output_type": "execute_result"
    },
    {
     "data": {
      "image/png": "[encoded data removed]",
      "text/plain": [
       "<Figure size 432x288 with 1 Axes>"
      ]
     },
     "metadata": {
      "needs_background": "light"
     },
     "output_type": "display_data"
    }
   ],
   "source": [
    "# Create random m-by-n encoding matrix and sparse vector\n",
    "m = 50\n",
    "n = 128\n",
    "k = 14\n",
    "[A,Rtmp] = np.linalg.qr(np.random.randn(n,m),'reduced')\n",
    "A  = A.T\n",
    "p  = np.random.permutation(n)\n",
    "p = p[0:k]\n",
    "x0 = np.zeros(n)\n",
    "x0[p] = np.random.randn(k)\n",
    "\n",
    "# Basis pursuit with subspace minimization\n",
    "b = A.dot(x0) # signal\n",
    "x,resid,grad,info = spg_bp(A, b, subspaceMin=True, verbosity=2)\n",
    "\n",
    "plt.figure()\n",
    "plt.plot(x,'b')\n",
    "plt.plot(x0,'ro')\n",
    "plt.legend(('Recovered coefficients','Original coefficients'))\n",
    "plt.title('(a) Basis Pursuit')"
   ]
  }
 ],
 "metadata": {
  "kernelspec": {
   "display_name": "Python 3",
   "language": "python",
   "name": "python3"
  },
  "language_info": {
   "codemirror_mode": {
    "name": "ipython",
    "version": 3
   },
   "file_extension": ".py",
   "mimetype": "text/x-python",
   "name": "python",
   "nbconvert_exporter": "python",
   "pygments_lexer": "ipython3",
   "version": "3.7.3"
  }
 },
 "nbformat": 4,
 "nbformat_minor": 2
}
