{
  "nbformat_minor": 0, 
  "nbformat": 4, 
  "cells": [
    {
      "execution_count": null, 
      "cell_type": "code", 
      "source": [
        "%matplotlib inline"
      ], 
      "outputs": [], 
      "metadata": {
        "collapsed": false
      }
    }, 
    {
      "source": [
        "\nSPGL1 Tutorial\n==============\nIn this tutorial we will explore the different solvers in the ``spgl1``\npackage and apply them to different toy examples.\n\n"
      ], 
      "cell_type": "markdown", 
      "metadata": {}
    }, 
    {
      "execution_count": null, 
      "cell_type": "code", 
      "source": [
        "import numpy as np\nimport matplotlib.pyplot as plt\n\nfrom scipy.sparse.linalg import LinearOperator\nfrom scipy.sparse import spdiags\nimport spgl1\n\n# Initialize random number generators\nnp.random.seed(43273289)"
      ], 
      "outputs": [], 
      "metadata": {
        "collapsed": false
      }
    }, 
    {
      "source": [
        "Create random m-by-n encoding matrix and sparse vector\n\n"
      ], 
      "cell_type": "markdown", 
      "metadata": {}
    }, 
    {
      "execution_count": null, 
      "cell_type": "code", 
      "source": [
        "m = 50\nn = 128\nk = 14\n[A,Rtmp] = np.linalg.qr(np.random.randn(n,m),'reduced')\nA  = A.T\np  = np.random.permutation(n)\np = p[0:k]\nx0 = np.zeros(n)\nx0[p] = np.random.randn(k)"
      ], 
      "outputs": [], 
      "metadata": {
        "collapsed": false
      }
    }, 
    {
      "source": [
        "Solve the underdetermined LASSO problem for $||x||_1 <= \\pi$:\n\n\\begin{align}min.||Ax-b||_2 \\quad subject \\quad  to \\quad ||x||_1 <= \\pi\\end{align}\n\n"
      ], 
      "cell_type": "markdown", 
      "metadata": {}
    }, 
    {
      "execution_count": null, 
      "cell_type": "code", 
      "source": [
        "b = A.dot(x0)\ntau = np.pi\nx,resid,grad,info = spgl1.spg_lasso(A, b, tau, verbosity=1)\n\nprint('%s%s%s' % ('-'*35,' Solution ','-'*35))\nprint('nonzeros(x) = %i,   ||x||_1 = %12.6e,   ||x||_1 - pi = %13.6e' %\n      (np.sum(abs(x)>1e-5), np.linalg.norm(x,1), np.linalg.norm(x,1)-np.pi))\nprint('%s' % ('-'*80))"
      ], 
      "outputs": [], 
      "metadata": {
        "collapsed": false
      }
    }, 
    {
      "source": [
        "Solve the basis pursuit (BP) problem:\n\\begin{align}min.  ||x||_1 \\quad subject \\quad  to \\quad  Ax = b\\end{align}\n\n"
      ], 
      "cell_type": "markdown", 
      "metadata": {}
    }, 
    {
      "execution_count": null, 
      "cell_type": "code", 
      "source": [
        "b = A.dot(x0)\nx,resid,grad,info = spgl1.spg_bp(A, b, verbosity=2)\n\nplt.figure()\nplt.plot(x,'b')\nplt.plot(x0,'ro')\nplt.legend(('Recovered coefficients','Original coefficients'))\nplt.title('(a) Basis Pursuit')\n\nplt.figure()\nplt.plot(info['xNorm1'], info['rNorm2'], '.-k')\nplt.xlabel(r'$||x||_1$')\nplt.ylabel(r'$||r||_2$')\nplt.title('Pareto curve')\n\nplt.figure()\nplt.plot(np.arange(info['iterr']), info['rNorm2']/max(info['rNorm2']),\n         '.-k', label=r'$||r||_2$')\nplt.plot(np.arange(info['iterr']), info['xNorm1']/max(info['xNorm1']),\n         '.-r', label=r'$||x||_1$')\nplt.xlabel(r'#iter')\nplt.ylabel(r'$||r||_2/||x||_1$')\nplt.title('Norms')"
      ], 
      "outputs": [], 
      "metadata": {
        "collapsed": false
      }
    }, 
    {
      "source": [
        "Solve the basis pursuit denoise (BPDN) problem:\n\\begin{align}min. ||x||_1 \\quad subject \\quad to \\quad ||Ax - b||_2 <= 0.1\\end{align}\n\n"
      ], 
      "cell_type": "markdown", 
      "metadata": {}
    }, 
    {
      "execution_count": null, 
      "cell_type": "code", 
      "source": [
        "b = A.dot(x0) + np.random.randn(m) * 0.075\nsigma = 0.10  #     % Desired ||Ax - b||_2\nx, resid, grad, info = spgl1.spg_bpdn(A, b, sigma, iterations=10, verbosity=2)\n\nplt.figure()\nplt.plot(x,'b')\nplt.plot(x0,'ro')\nplt.legend(('Recovered coefficients','Original coefficients'))\nplt.title('(b) Basis Pursuit Denoise')"
      ], 
      "outputs": [], 
      "metadata": {
        "collapsed": false
      }
    }, 
    {
      "source": [
        "Solve the basis pursuit (BP) problem in complex variables:\n\\begin{align}min. ||z||_1 \\quad subject \\quad to \\quad  Az = b$$\\end{align}\n\n"
      ], 
      "cell_type": "markdown", 
      "metadata": {}
    }, 
    {
      "execution_count": null, 
      "cell_type": "code", 
      "source": [
        "class partialFourier(LinearOperator):\n    def __init__(self, idx, n):\n        self.idx = idx\n        self.n = n\n        self.shape = (len(idx), n)\n        self.dtype = np.complex128\n    def _matvec(self, x):\n        # % y = P(idx) * FFT(x)\n        z = np.fft.fft(x) / np.sqrt(n)\n        return z[idx]\n    def _rmatvec(self, x):\n        z = np.zeros(n,dtype=complex)\n        z[idx] = x\n        return np.fft.ifft(z) * np.sqrt(n)\n\n\n# % Create partial Fourier operator with rows idx\nidx = np.random.permutation(n)\nidx = idx[0:m]\nopA = partialFourier(idx, n)\n\n# % Create sparse coefficients and b = 'A' * z0;\nz0 = np.zeros(n,dtype=complex)\nz0[p] = np.random.randn(k) + 1j * np.random.randn(k)\nb = opA.matvec(z0)\n\nz, resid, grad, info = spgl1.spg_bp(opA, b, verbosity=2)\n\nplt.figure()\nplt.plot(z.real,'b+',markersize=15.0)\nplt.plot(z0.real,'bo')\nplt.plot(z.imag,'r+',markersize=15.0)\nplt.plot(z0.imag,'ro')\nplt.legend(('Recovered (real)', 'Original (real)',\n            'Recovered (imag)', 'Original (imag)'))\nplt.title('(c) Complex Basis Pursuit')"
      ], 
      "outputs": [], 
      "metadata": {
        "collapsed": false
      }
    }
  ], 
  "metadata": {
    "kernelspec": {
      "display_name": "Python 2", 
      "name": "python2", 
      "language": "python"
    }, 
    "language_info": {
      "mimetype": "text/x-python", 
      "nbconvert_exporter": "python", 
      "name": "python", 
      "file_extension": ".py", 
      "version": "2.7.6", 
      "pygments_lexer": "ipython2", 
      "codemirror_mode": {
        "version": 2, 
        "name": "ipython"
      }
    }
  }
}